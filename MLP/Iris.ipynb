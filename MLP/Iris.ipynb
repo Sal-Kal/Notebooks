{
 "cells": [
  {
   "cell_type": "code",
   "execution_count": 9,
   "metadata": {},
   "outputs": [],
   "source": [
    "import pandas as pd\n",
    "import seaborn as sns\n",
    "import numpy as np\n",
    "from sklearn.model_selection import train_test_split\n",
    "from sklearn.preprocessing import StandardScaler, label_binarize\n",
    "from sklearn.metrics import *\n",
    "from sklearn.neural_network import MLPClassifier\n",
    "from itertools import cycle"
   ]
  },
  {
   "cell_type": "code",
   "execution_count": 10,
   "metadata": {},
   "outputs": [
    {
     "data": {
      "text/plain": [
       "[5.091833120089403,\n",
       " 1.1128657802409463,\n",
       " 1.1460568034299399,\n",
       " 1.1519913623310054,\n",
       " 1.1496674929087287,\n",
       " 1.141374429956453,\n",
       " 1.128411826234249,\n",
       " 1.1069886137818572,\n",
       " 2.1264702992740347,\n",
       " 2.1593413360981266,\n",
       " 1.0648676393646284,\n",
       " 1.0921122169980302,\n",
       " 1.0999070528756703,\n",
       " 1.1034061012550838,\n",
       " 1.104272933345745,\n",
       " 1.1036596883959904,\n",
       " 1.1021725445702264,\n",
       " 1.1002733368956434,\n",
       " 1.0982357670322729,\n",
       " 1.096257705233503,\n",
       " 1.0945111314922784,\n",
       " 1.0931105677701876]"
      ]
     },
     "execution_count": 10,
     "metadata": {},
     "output_type": "execute_result"
    }
   ],
   "source": [
    "data = pd.read_csv('./Iris.csv')\n",
    "X = data.drop(columns='Species', axis=1)\n",
    "Y = data['Species']\n",
    "Y = Y.map({\n",
    "    'Iris-setosa' : 0,\n",
    "    'Iris-versicolor' : 1,\n",
    "    'Iris-virginica' : 2\n",
    "})\n",
    "Y = Y.values.reshape(-1)\n",
    "X_train, X_test, Y_train, Y_test = train_test_split(X,Y,random_state=7)\n",
    "mlp = MLPClassifier(hidden_layer_sizes=(6,4), learning_rate_init=0.1, random_state=7, verbose=False)\n",
    "mlp.fit(X_train,Y_train)\n",
    "mlp.loss_curve_"
   ]
  },
  {
   "cell_type": "code",
   "execution_count": 11,
   "metadata": {},
   "outputs": [
    {
     "data": {
      "image/png": "[encoded data removed]",
      "text/plain": [
       "<Figure size 432x288 with 2 Axes>"
      ]
     },
     "metadata": {
      "needs_background": "light"
     },
     "output_type": "display_data"
    }
   ],
   "source": [
    "\n",
    "import numpy as np\n",
    "import matplotlib.pyplot as plt\n",
    "\n",
    "TRAIN_SAMPLES = X_train.shape[0]\n",
    "EPOCHS = 130\n",
    "BATCH = 128\n",
    "CLASSES = np.unique(Y_train)\n",
    "\n",
    "scores_train = []\n",
    "scores_test = []\n",
    "epoch = 0\n",
    "\n",
    "while epoch < EPOCHS:\n",
    "    random_perm = np.random.permutation(X_train.shape[0])\n",
    "    mini_batch_index = 0\n",
    "    \n",
    "    while True:\n",
    "        indices = random_perm[mini_batch_index:mini_batch_index+BATCH]\n",
    "        mlp.partial_fit(X_train.iloc[indices],Y_train[indices],classes=CLASSES)\n",
    "        mini_batch_index += BATCH\n",
    "        \n",
    "        if mini_batch_index >= TRAIN_SAMPLES:\n",
    "            break\n",
    "    \n",
    "    scores_train.append(mlp.score(X_train,Y_train))\n",
    "    scores_test.append(mlp.score(X_test,Y_test))\n",
    "    epoch += 1\n",
    "    \n",
    "fig, ax = plt.subplots(2, sharex=True, sharey=True)\n",
    "ax[0].plot(scores_train)\n",
    "ax[0].set_title('Train')\n",
    "ax[1].plot(scores_test)\n",
    "ax[1].set_title('Test')\n",
    "fig.suptitle(\"Accuracy over epochs\", fontsize=14)\n",
    "plt.show()"
   ]
  },
  {
   "cell_type": "code",
   "execution_count": 12,
   "metadata": {},
   "outputs": [
    {
     "name": "stdout",
     "output_type": "stream",
     "text": [
      "0.8421052631578947\n"
     ]
    }
   ],
   "source": [
    "predictions = mlp.predict(X_test)\n",
    "print(accuracy_score(Y_test,predictions))"
   ]
  },
  {
   "cell_type": "code",
   "execution_count": 13,
   "metadata": {},
   "outputs": [
    {
     "data": {
      "text/plain": [
       "<sklearn.metrics._plot.confusion_matrix.ConfusionMatrixDisplay at 0x7f4d6b61ae30>"
      ]
     },
     "execution_count": 13,
     "metadata": {},
     "output_type": "execute_result"
    },
    {
     "data": {
      "image/png": "[encoded data removed]",
      "text/plain": [
       "<Figure size 432x288 with 2 Axes>"
      ]
     },
     "metadata": {
      "needs_background": "light"
     },
     "output_type": "display_data"
    }
   ],
   "source": [
    "ConfusionMatrixDisplay.from_predictions(Y_test,predictions)"
   ]
  },
  {
   "cell_type": "code",
   "execution_count": 18,
   "metadata": {},
   "outputs": [],
   "source": [
    "TN , FP , FN , TP = confusion_matrix(list(Y_test), list(predictions), labels = [0,1]).ravel()"
   ]
  },
  {
   "cell_type": "code",
   "execution_count": 19,
   "metadata": {},
   "outputs": [
    {
     "name": "stdout",
     "output_type": "stream",
     "text": [
      "8\n",
      "11\n",
      "0\n",
      "2\n"
     ]
    }
   ],
   "source": [
    "print(TP)\n",
    "print(TN)\n",
    "print(FP)\n",
    "print(FN)"
   ]
  },
  {
   "cell_type": "code",
   "execution_count": 14,
   "metadata": {},
   "outputs": [
    {
     "name": "stdout",
     "output_type": "stream",
     "text": [
      "              precision    recall  f1-score   support\n",
      "\n",
      "           0       0.85      1.00      0.92        11\n",
      "           1       1.00      0.57      0.73        14\n",
      "           2       0.76      1.00      0.87        13\n",
      "\n",
      "    accuracy                           0.84        38\n",
      "   macro avg       0.87      0.86      0.84        38\n",
      "weighted avg       0.87      0.84      0.83        38\n",
      "\n"
     ]
    }
   ],
   "source": [
    "print(classification_report(Y_test,predictions))"
   ]
  },
  {
   "cell_type": "code",
   "execution_count": 15,
   "metadata": {},
   "outputs": [
    {
     "data": {
      "text/plain": [
       "0.960873015873016"
      ]
     },
     "execution_count": 15,
     "metadata": {},
     "output_type": "execute_result"
    }
   ],
   "source": [
    "pred_proba = mlp.predict_proba(X_test)\n",
    "roc_auc_score(Y_test,pred_proba,multi_class='ovr')"
   ]
  },
  {
   "cell_type": "code",
   "execution_count": 16,
   "metadata": {},
   "outputs": [
    {
     "data": {
      "text/plain": [
       "0.9642857142857143"
      ]
     },
     "execution_count": 16,
     "metadata": {},
     "output_type": "execute_result"
    }
   ],
   "source": [
    "roc_auc_score(Y_test,pred_proba,multi_class='ovo')"
   ]
  },
  {
   "cell_type": "code",
   "execution_count": 17,
   "metadata": {},
   "outputs": [
    {
     "ename": "NameError",
     "evalue": "name 'sMlp' is not defined",
     "output_type": "error",
     "traceback": [
      "\u001b[0;31m---------------------------------------------------------------------------\u001b[0m",
      "\u001b[0;31mNameError\u001b[0m                                 Traceback (most recent call last)",
      "\u001b[1;32m/home/sal/Codes/Notebooks/MLP/Iris.ipynb Cell 9'\u001b[0m in \u001b[0;36m<cell line: 9>\u001b[0;34m()\u001b[0m\n\u001b[1;32m      <a href='vscode-notebook-cell:/home/sal/Codes/Notebooks/MLP/Iris.ipynb#ch0000008?line=2'>3</a>\u001b[0m Setosa_Y \u001b[39m=\u001b[39m Setosa_Y\u001b[39m.\u001b[39mmap({\n\u001b[1;32m      <a href='vscode-notebook-cell:/home/sal/Codes/Notebooks/MLP/Iris.ipynb#ch0000008?line=3'>4</a>\u001b[0m     \u001b[39m'\u001b[39m\u001b[39mIris-setosa\u001b[39m\u001b[39m'\u001b[39m:\u001b[39m1\u001b[39m,\n\u001b[1;32m      <a href='vscode-notebook-cell:/home/sal/Codes/Notebooks/MLP/Iris.ipynb#ch0000008?line=4'>5</a>\u001b[0m     \u001b[39m'\u001b[39m\u001b[39mIris-versicolor\u001b[39m\u001b[39m'\u001b[39m:\u001b[39m0\u001b[39m,\n\u001b[1;32m      <a href='vscode-notebook-cell:/home/sal/Codes/Notebooks/MLP/Iris.ipynb#ch0000008?line=5'>6</a>\u001b[0m     \u001b[39m'\u001b[39m\u001b[39mIris-virginica\u001b[39m\u001b[39m'\u001b[39m:\u001b[39m0\u001b[39m\n\u001b[1;32m      <a href='vscode-notebook-cell:/home/sal/Codes/Notebooks/MLP/Iris.ipynb#ch0000008?line=6'>7</a>\u001b[0m })\n\u001b[1;32m      <a href='vscode-notebook-cell:/home/sal/Codes/Notebooks/MLP/Iris.ipynb#ch0000008?line=7'>8</a>\u001b[0m Setosa_Y \u001b[39m=\u001b[39m Setosa_Y\u001b[39m.\u001b[39mvalues\u001b[39m.\u001b[39mreshape(\u001b[39m-\u001b[39m\u001b[39m1\u001b[39m)\n\u001b[0;32m----> <a href='vscode-notebook-cell:/home/sal/Codes/Notebooks/MLP/Iris.ipynb#ch0000008?line=8'>9</a>\u001b[0m sMlp\n",
      "\u001b[0;31mNameError\u001b[0m: name 'sMlp' is not defined"
     ]
    }
   ],
   "source": [
    "Setosa_X = data.drop(columns = 'Species', axis=1)\n",
    "Setosa_Y = data['Species']\n",
    "Setosa_Y = Setosa_Y.map({\n",
    "    'Iris-setosa':1,\n",
    "    'Iris-versicolor':0,\n",
    "    'Iris-virginica':0\n",
    "})\n",
    "Setosa_Y = Setosa_Y.values.reshape(-1)\n",
    "sMlp"
   ]
  }
 ],
 "metadata": {
  "interpreter": {
   "hash": "916dbcbb3f70747c44a77c7bcd40155683ae19c65e1c03b4aa3499c5328201f1"
  },
  "kernelspec": {
   "display_name": "Python 3.10.4 64-bit",
   "language": "python",
   "name": "python3"
  },
  "language_info": {
   "codemirror_mode": {
    "name": "ipython",
    "version": 3
   },
   "file_extension": ".py",
   "mimetype": "text/x-python",
   "name": "python",
   "nbconvert_exporter": "python",
   "pygments_lexer": "ipython3",
   "version": "3.10.4"
  },
  "orig_nbformat": 4
 },
 "nbformat": 4,
 "nbformat_minor": 2
}
