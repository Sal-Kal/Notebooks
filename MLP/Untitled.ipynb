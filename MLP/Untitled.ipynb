{
 "cells": [
  {
   "cell_type": "code",
   "execution_count": 1,
   "id": "027491c4",
   "metadata": {},
   "outputs": [],
   "source": [
    "import pandas as pd\n",
    "from sklearn import preprocessing\n",
    "from sklearn.neural_network import MLPClassifier\n",
    "from sklearn.metrics import *"
   ]
  },
  {
   "cell_type": "code",
   "execution_count": 2,
   "id": "f56577fe",
   "metadata": {},
   "outputs": [],
   "source": [
    "df = pd.read_csv('diabetes.csv')"
   ]
  },
  {
   "cell_type": "code",
   "execution_count": 3,
   "id": "55b9ee73",
   "metadata": {},
   "outputs": [
    {
     "data": {
      "text/html": [
       "<div>\n",
       "<style scoped>\n",
       "    .dataframe tbody tr th:only-of-type {\n",
       "        vertical-align: middle;\n",
       "    }\n",
       "\n",
       "    .dataframe tbody tr th {\n",
       "        vertical-align: top;\n",
       "    }\n",
       "\n",
       "    .dataframe thead th {\n",
       "        text-align: right;\n",
       "    }\n",
       "</style>\n",
       "<table border=\"1\" class=\"dataframe\">\n",
       "  <thead>\n",
       "    <tr style=\"text-align: right;\">\n",
       "      <th></th>\n",
       "      <th>Pregnancies</th>\n",
       "      <th>Glucose</th>\n",
       "      <th>BloodPressure</th>\n",
       "      <th>SkinThickness</th>\n",
       "      <th>Insulin</th>\n",
       "      <th>BMI</th>\n",
       "      <th>DiabetesPedigreeFunction</th>\n",
       "      <th>Age</th>\n",
       "      <th>Outcome</th>\n",
       "    </tr>\n",
       "  </thead>\n",
       "  <tbody>\n",
       "    <tr>\n",
       "      <th>0</th>\n",
       "      <td>6</td>\n",
       "      <td>148</td>\n",
       "      <td>72</td>\n",
       "      <td>35</td>\n",
       "      <td>0</td>\n",
       "      <td>33.6</td>\n",
       "      <td>0.627</td>\n",
       "      <td>50</td>\n",
       "      <td>1</td>\n",
       "    </tr>\n",
       "    <tr>\n",
       "      <th>1</th>\n",
       "      <td>1</td>\n",
       "      <td>85</td>\n",
       "      <td>66</td>\n",
       "      <td>29</td>\n",
       "      <td>0</td>\n",
       "      <td>26.6</td>\n",
       "      <td>0.351</td>\n",
       "      <td>31</td>\n",
       "      <td>0</td>\n",
       "    </tr>\n",
       "    <tr>\n",
       "      <th>2</th>\n",
       "      <td>8</td>\n",
       "      <td>183</td>\n",
       "      <td>64</td>\n",
       "      <td>0</td>\n",
       "      <td>0</td>\n",
       "      <td>23.3</td>\n",
       "      <td>0.672</td>\n",
       "      <td>32</td>\n",
       "      <td>1</td>\n",
       "    </tr>\n",
       "    <tr>\n",
       "      <th>3</th>\n",
       "      <td>1</td>\n",
       "      <td>89</td>\n",
       "      <td>66</td>\n",
       "      <td>23</td>\n",
       "      <td>94</td>\n",
       "      <td>28.1</td>\n",
       "      <td>0.167</td>\n",
       "      <td>21</td>\n",
       "      <td>0</td>\n",
       "    </tr>\n",
       "    <tr>\n",
       "      <th>4</th>\n",
       "      <td>0</td>\n",
       "      <td>137</td>\n",
       "      <td>40</td>\n",
       "      <td>35</td>\n",
       "      <td>168</td>\n",
       "      <td>43.1</td>\n",
       "      <td>2.288</td>\n",
       "      <td>33</td>\n",
       "      <td>1</td>\n",
       "    </tr>\n",
       "  </tbody>\n",
       "</table>\n",
       "</div>"
      ],
      "text/plain": [
       "   Pregnancies  Glucose  BloodPressure  SkinThickness  Insulin   BMI  \\\n",
       "0            6      148             72             35        0  33.6   \n",
       "1            1       85             66             29        0  26.6   \n",
       "2            8      183             64              0        0  23.3   \n",
       "3            1       89             66             23       94  28.1   \n",
       "4            0      137             40             35      168  43.1   \n",
       "\n",
       "   DiabetesPedigreeFunction  Age  Outcome  \n",
       "0                     0.627   50        1  \n",
       "1                     0.351   31        0  \n",
       "2                     0.672   32        1  \n",
       "3                     0.167   21        0  \n",
       "4                     2.288   33        1  "
      ]
     },
     "execution_count": 3,
     "metadata": {},
     "output_type": "execute_result"
    }
   ],
   "source": [
    "df.head()"
   ]
  },
  {
   "cell_type": "code",
   "execution_count": 4,
   "id": "0267807c",
   "metadata": {},
   "outputs": [],
   "source": [
    "x = df.drop(columns=['Outcome'] , axis = 1)"
   ]
  },
  {
   "cell_type": "code",
   "execution_count": 5,
   "id": "12710713",
   "metadata": {},
   "outputs": [],
   "source": [
    "y = df['Outcome']"
   ]
  },
  {
   "cell_type": "code",
   "execution_count": 6,
   "id": "76e06f52",
   "metadata": {},
   "outputs": [],
   "source": [
    "from sklearn.model_selection import train_test_split\n",
    "x_train, x_test, y_train, y_test = train_test_split(x,y,test_size=0.3,random_state=42)"
   ]
  },
  {
   "cell_type": "code",
   "execution_count": 7,
   "id": "add0219b",
   "metadata": {},
   "outputs": [],
   "source": [
    "mlp = MLPClassifier(hidden_layer_sizes=(6,4) , random_state=7, verbose=False, learning_rate_init=0.01)"
   ]
  },
  {
   "cell_type": "code",
   "execution_count": 8,
   "id": "66c96beb",
   "metadata": {},
   "outputs": [
    {
     "name": "stderr",
     "output_type": "stream",
     "text": [
      "/home/sal/.local/lib/python3.10/site-packages/sklearn/neural_network/_multilayer_perceptron.py:702: ConvergenceWarning: Stochastic Optimizer: Maximum iterations (200) reached and the optimization hasn't converged yet.\n",
      "  warnings.warn(\n"
     ]
    },
    {
     "data": {
      "text/plain": [
       "[6.399764144020933,\n",
       " 3.361392593138585,\n",
       " 2.3375120767137183,\n",
       " 1.7572006781208864,\n",
       " 1.7782495976313346,\n",
       " 1.617462401227505,\n",
       " 1.353461954513761,\n",
       " 1.158221589379452,\n",
       " 1.1293312126533173,\n",
       " 1.1101587375776476,\n",
       " 1.0382184742526837,\n",
       " 0.9346244816583958,\n",
       " 0.8736719499343643,\n",
       " 0.8397906192397192,\n",
       " 0.8047741279599357,\n",
       " 0.7641770742091958,\n",
       " 0.7281764624574382,\n",
       " 0.7029612557405834,\n",
       " 0.6870941514383996,\n",
       " 0.6724237923286098,\n",
       " 0.6622243807519302,\n",
       " 0.6594743046224276,\n",
       " 0.6593511716906904,\n",
       " 0.6574121016497025,\n",
       " 0.6564043263927652,\n",
       " 0.6553676884454626,\n",
       " 0.6538221342360026,\n",
       " 0.6530708908481536,\n",
       " 0.6517842261474894,\n",
       " 0.6517053435192863,\n",
       " 0.6507309455809133,\n",
       " 0.6506061442270997,\n",
       " 0.6502463883097921,\n",
       " 0.6495273714658163,\n",
       " 0.6497693111157173,\n",
       " 0.6495423946117,\n",
       " 0.6487975309330144,\n",
       " 0.6484260068210913,\n",
       " 0.6484222203485512,\n",
       " 0.6483486278624564,\n",
       " 0.6478116739884686,\n",
       " 0.6472940322164675,\n",
       " 0.6468161527045313,\n",
       " 0.646691089801225,\n",
       " 0.6464550489768323,\n",
       " 0.6461641328693313,\n",
       " 0.6459940972028323,\n",
       " 0.645617810801442,\n",
       " 0.6452951399477789,\n",
       " 0.645007099101121,\n",
       " 0.6446868600586672,\n",
       " 0.6446193186658551,\n",
       " 0.6447621200767603,\n",
       " 0.6438216139847358,\n",
       " 0.643756960414965,\n",
       " 0.6437140260501396,\n",
       " 0.6436202207488234,\n",
       " 0.6429585932017711,\n",
       " 0.6426985493713747,\n",
       " 0.6429078736819878,\n",
       " 0.6421605333619743,\n",
       " 0.6423130245045928,\n",
       " 0.6416912001991704,\n",
       " 0.6414245391594571,\n",
       " 0.6414723097727666,\n",
       " 0.6409814236259004,\n",
       " 0.6405593418922042,\n",
       " 0.6408243457090788,\n",
       " 0.6401693180393521,\n",
       " 0.6397352244769833,\n",
       " 0.6397353125799323,\n",
       " 0.6394067906053115,\n",
       " 0.638831467032909,\n",
       " 0.6385344122161944,\n",
       " 0.6381844409024992,\n",
       " 0.638438615146963,\n",
       " 0.637831499726769,\n",
       " 0.6374234881648033,\n",
       " 0.6380598216071823,\n",
       " 0.6361102839263019,\n",
       " 0.6363698734663206,\n",
       " 0.6360537319535452,\n",
       " 0.6349539877876276,\n",
       " 0.6343149657063026,\n",
       " 0.6349611241486046,\n",
       " 0.6336348801941665,\n",
       " 0.6326878349037311,\n",
       " 0.632006077854626,\n",
       " 0.6310649547463343,\n",
       " 0.630407783767368,\n",
       " 0.6284620268342634,\n",
       " 0.6275526166052826,\n",
       " 0.6267803428646781,\n",
       " 0.6252362348235426,\n",
       " 0.6242613021859821,\n",
       " 0.6233130922541847,\n",
       " 0.6211167086640759,\n",
       " 0.619622768064696,\n",
       " 0.6182606040352028,\n",
       " 0.6165836237491982,\n",
       " 0.6178597586876154,\n",
       " 0.6144850355518124,\n",
       " 0.6149519069118464,\n",
       " 0.6144051818830246,\n",
       " 0.6121028026217528,\n",
       " 0.6129233978440194,\n",
       " 0.61069753928775,\n",
       " 0.6096610222610115,\n",
       " 0.6095205561145762,\n",
       " 0.6077940275001991,\n",
       " 0.6083723906627452,\n",
       " 0.6065480289306886,\n",
       " 0.6057174251484416,\n",
       " 0.6042469607979944,\n",
       " 0.6036639488802379,\n",
       " 0.6037461737360923,\n",
       " 0.6005517167602735,\n",
       " 0.5996121496894555,\n",
       " 0.5976191564084533,\n",
       " 0.5962146911634757,\n",
       " 0.5960286717414075,\n",
       " 0.5935188410880085,\n",
       " 0.5930836633292813,\n",
       " 0.5897467966044839,\n",
       " 0.5893124056426488,\n",
       " 0.586805127727094,\n",
       " 0.5847367550180022,\n",
       " 0.5842852145093824,\n",
       " 0.5821487688798692,\n",
       " 0.582055181248501,\n",
       " 0.5792462653235564,\n",
       " 0.5783949361257943,\n",
       " 0.5771039431928268,\n",
       " 0.5767153772544827,\n",
       " 0.5751932755742568,\n",
       " 0.5748391874338342,\n",
       " 0.5731067938895246,\n",
       " 0.5732614207619112,\n",
       " 0.5720846953828238,\n",
       " 0.5732041931562335,\n",
       " 0.5698172969891262,\n",
       " 0.5808037020442552,\n",
       " 0.5726990764149675,\n",
       " 0.5749402050693703,\n",
       " 0.573994069034093,\n",
       " 0.5717939102204311,\n",
       " 0.5672862048852012,\n",
       " 0.5723653751495916,\n",
       " 0.5667591590433801,\n",
       " 0.56429638667367,\n",
       " 0.5698540525747411,\n",
       " 0.5763193583170388,\n",
       " 0.5700915909722377,\n",
       " 0.5643948645236756,\n",
       " 0.5702960372260439,\n",
       " 0.5707138508201912,\n",
       " 0.5617438573116722,\n",
       " 0.5749261244103412,\n",
       " 0.5668009601566296,\n",
       " 0.5670075370960316,\n",
       " 0.5659746482096757,\n",
       " 0.5579431886581508,\n",
       " 0.5609871185739762,\n",
       " 0.5584823893244072,\n",
       " 0.5550179347076276,\n",
       " 0.5558454953559395,\n",
       " 0.5559670406305622,\n",
       " 0.5551888278783353,\n",
       " 0.5543508298455474,\n",
       " 0.5523640310998275,\n",
       " 0.5551402172008532,\n",
       " 0.5596628667998399,\n",
       " 0.5530687365729922,\n",
       " 0.5575285317454968,\n",
       " 0.5545066954182535,\n",
       " 0.5491783962930998,\n",
       " 0.5495437618381362,\n",
       " 0.550275374351709,\n",
       " 0.5482880698213635,\n",
       " 0.5476988619408713,\n",
       " 0.5479748504370432,\n",
       " 0.5458977106665304,\n",
       " 0.5466813543276152,\n",
       " 0.5467247219708596,\n",
       " 0.5456454342898788,\n",
       " 0.5477403948334482,\n",
       " 0.5468807262232523,\n",
       " 0.5450409628121221,\n",
       " 0.5432798104371084,\n",
       " 0.549830532948562,\n",
       " 0.5432518464439479,\n",
       " 0.5417229374366294,\n",
       " 0.5419975822183579,\n",
       " 0.5437483361029227,\n",
       " 0.5418113762797442,\n",
       " 0.5413694785836931,\n",
       " 0.5411826621228502,\n",
       " 0.542566157057557,\n",
       " 0.5390803821893033,\n",
       " 0.5389221621197351]"
      ]
     },
     "execution_count": 8,
     "metadata": {},
     "output_type": "execute_result"
    }
   ],
   "source": [
    "mlp.fit(x_train,y_train)\n",
    "mlp.loss_curve_"
   ]
  },
  {
   "cell_type": "code",
   "execution_count": 9,
   "id": "17ac2510",
   "metadata": {},
   "outputs": [
    {
     "data": {
      "text/plain": [
       "(537, 8)"
      ]
     },
     "execution_count": 9,
     "metadata": {},
     "output_type": "execute_result"
    }
   ],
   "source": [
    "x_train.shape"
   ]
  },
  {
   "cell_type": "code",
   "execution_count": 10,
   "id": "cbe92f0c",
   "metadata": {},
   "outputs": [
    {
     "data": {
      "image/png": "[encoded data removed]",
      "text/plain": [
       "<Figure size 432x288 with 2 Axes>"
      ]
     },
     "metadata": {
      "needs_background": "light"
     },
     "output_type": "display_data"
    }
   ],
   "source": [
    "import numpy as np\n",
    "import matplotlib.pyplot as plt\n",
    "\n",
    "TRAIN_SAMPLES = x_train.shape[0]\n",
    "EPOCHS = 500\n",
    "BATCH = 128\n",
    "CLASSES = np.unique(y_train)\n",
    "\n",
    "scores_train = []\n",
    "scores_test = []\n",
    "epoch = 0\n",
    "\n",
    "while epoch < EPOCHS:\n",
    "    random_perm = np.random.permutation(x_train.shape[0])\n",
    "    mini_batch_index = 0\n",
    "    \n",
    "    while True:\n",
    "        indices = random_perm[mini_batch_index:mini_batch_index+BATCH]\n",
    "        mlp.partial_fit(x_train.iloc[indices],y_train.iloc[indices],classes=CLASSES)\n",
    "        mini_batch_index += BATCH\n",
    "        \n",
    "        if mini_batch_index >= TRAIN_SAMPLES:\n",
    "            break\n",
    "    \n",
    "    scores_train.append(mlp.score(x_train,y_train))\n",
    "    scores_test.append(mlp.score(x_test,y_test))\n",
    "    epoch += 1\n",
    "    \n",
    "fig, ax = plt.subplots(2, sharex=True, sharey=True)\n",
    "ax[0].plot(scores_train)\n",
    "ax[0].set_title('Train')\n",
    "ax[1].plot(scores_test)\n",
    "ax[1].set_title('Test')\n",
    "fig.suptitle(\"Accuracy over epochs\", fontsize=14)\n",
    "plt.show()"
   ]
  },
  {
   "cell_type": "code",
   "execution_count": 11,
   "id": "5872edad",
   "metadata": {},
   "outputs": [],
   "source": [
    "pred = mlp.predict(x_test)"
   ]
  },
  {
   "cell_type": "code",
   "execution_count": 12,
   "id": "d6070954",
   "metadata": {},
   "outputs": [
    {
     "data": {
      "text/plain": [
       "0.7619047619047619"
      ]
     },
     "execution_count": 12,
     "metadata": {},
     "output_type": "execute_result"
    }
   ],
   "source": [
    "accuracy_score(y_test,pred)"
   ]
  },
  {
   "cell_type": "code",
   "execution_count": 13,
   "id": "b4f6bd28",
   "metadata": {},
   "outputs": [],
   "source": [
    "def make_predictions(datapoint):\n",
    "    x = mlp.predict(datapoint)\n",
    "    if x == 1:\n",
    "        print('Patient has diabetes')\n",
    "    else:\n",
    "        print('Patient does not has diabetes')"
   ]
  },
  {
   "cell_type": "code",
   "execution_count": 14,
   "id": "ddeb16ad",
   "metadata": {},
   "outputs": [
    {
     "name": "stdout",
     "output_type": "stream",
     "text": [
      "Patient does not has diabetes\n"
     ]
    },
    {
     "name": "stderr",
     "output_type": "stream",
     "text": [
      "/home/sal/.local/lib/python3.10/site-packages/sklearn/base.py:450: UserWarning: X does not have valid feature names, but MLPClassifier was fitted with feature names\n",
      "  warnings.warn(\n"
     ]
    }
   ],
   "source": [
    "make_predictions([[1,85,66,29,0,26.6,0.351,31]])"
   ]
  },
  {
   "cell_type": "code",
   "execution_count": null,
   "id": "08a9ee64",
   "metadata": {},
   "outputs": [],
   "source": []
  }
 ],
 "metadata": {
  "interpreter": {
   "hash": "916dbcbb3f70747c44a77c7bcd40155683ae19c65e1c03b4aa3499c5328201f1"
  },
  "kernelspec": {
   "display_name": "Python 3.10.4 64-bit",
   "language": "python",
   "name": "python3"
  },
  "language_info": {
   "codemirror_mode": {
    "name": "ipython",
    "version": 3
   },
   "file_extension": ".py",
   "mimetype": "text/x-python",
   "name": "python",
   "nbconvert_exporter": "python",
   "pygments_lexer": "ipython3",
   "version": "3.10.4"
  }
 },
 "nbformat": 4,
 "nbformat_minor": 5
}
