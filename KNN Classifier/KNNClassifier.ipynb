{
 "cells": [
  {
   "cell_type": "code",
   "execution_count": 73,
   "metadata": {},
   "outputs": [],
   "source": [
    "import pandas as pd\n",
    "import numpy as np\n",
    "import seaborn as sns\n",
    "import matplotlib.pyplot as plt\n",
    "from sklearn.preprocessing import *\n",
    "from sklearn.model_selection import *\n",
    "from sklearn.neighbors import KNeighborsClassifier\n",
    "from sklearn.metrics import *"
   ]
  },
  {
   "cell_type": "code",
   "execution_count": 74,
   "metadata": {},
   "outputs": [
    {
     "data": {
      "text/html": [
       "<div>\n",
       "<style scoped>\n",
       "    .dataframe tbody tr th:only-of-type {\n",
       "        vertical-align: middle;\n",
       "    }\n",
       "\n",
       "    .dataframe tbody tr th {\n",
       "        vertical-align: top;\n",
       "    }\n",
       "\n",
       "    .dataframe thead th {\n",
       "        text-align: right;\n",
       "    }\n",
       "</style>\n",
       "<table border=\"1\" class=\"dataframe\">\n",
       "  <thead>\n",
       "    <tr style=\"text-align: right;\">\n",
       "      <th></th>\n",
       "      <th>Class</th>\n",
       "      <th>L-Weight</th>\n",
       "      <th>L-Distance</th>\n",
       "      <th>R-Weight</th>\n",
       "      <th>R-Distance</th>\n",
       "    </tr>\n",
       "  </thead>\n",
       "  <tbody>\n",
       "    <tr>\n",
       "      <th>0</th>\n",
       "      <td>B</td>\n",
       "      <td>1</td>\n",
       "      <td>1</td>\n",
       "      <td>1</td>\n",
       "      <td>1</td>\n",
       "    </tr>\n",
       "    <tr>\n",
       "      <th>1</th>\n",
       "      <td>R</td>\n",
       "      <td>1</td>\n",
       "      <td>1</td>\n",
       "      <td>1</td>\n",
       "      <td>2</td>\n",
       "    </tr>\n",
       "    <tr>\n",
       "      <th>2</th>\n",
       "      <td>R</td>\n",
       "      <td>1</td>\n",
       "      <td>1</td>\n",
       "      <td>1</td>\n",
       "      <td>3</td>\n",
       "    </tr>\n",
       "    <tr>\n",
       "      <th>3</th>\n",
       "      <td>R</td>\n",
       "      <td>1</td>\n",
       "      <td>1</td>\n",
       "      <td>1</td>\n",
       "      <td>4</td>\n",
       "    </tr>\n",
       "    <tr>\n",
       "      <th>4</th>\n",
       "      <td>R</td>\n",
       "      <td>1</td>\n",
       "      <td>1</td>\n",
       "      <td>1</td>\n",
       "      <td>5</td>\n",
       "    </tr>\n",
       "  </tbody>\n",
       "</table>\n",
       "</div>"
      ],
      "text/plain": [
       "  Class  L-Weight  L-Distance  R-Weight  R-Distance\n",
       "0     B         1           1         1           1\n",
       "1     R         1           1         1           2\n",
       "2     R         1           1         1           3\n",
       "3     R         1           1         1           4\n",
       "4     R         1           1         1           5"
      ]
     },
     "execution_count": 74,
     "metadata": {},
     "output_type": "execute_result"
    }
   ],
   "source": [
    "data = pd.read_csv('./balance-scale2.csv')\n",
    "data.head()"
   ]
  },
  {
   "cell_type": "code",
   "execution_count": 75,
   "metadata": {},
   "outputs": [
    {
     "name": "stdout",
     "output_type": "stream",
     "text": [
      "(array(['B', 'L', 'R'], dtype=object), array([ 49, 288, 288]))\n",
      "(array([0, 1, 2]), array([ 49, 288, 288]))\n"
     ]
    }
   ],
   "source": [
    "print(np.unique(data['Class'], return_counts=True))\n",
    "le = LabelEncoder()\n",
    "data['Class'] = le.fit_transform(data['Class'])\n",
    "print(np.unique(data['Class'], return_counts=True))"
   ]
  },
  {
   "cell_type": "code",
   "execution_count": 76,
   "metadata": {},
   "outputs": [],
   "source": [
    "x_var = data.drop(columns='Class', axis=1)\n",
    "y_var = data['Class']\n",
    "x_train, x_test, y_train, y_test = train_test_split(x_var, y_var, test_size=0.3)\n",
    "mse = []\n",
    "k = []\n",
    "x = []\n",
    "y = []\n",
    "for i in range(1, 80):\n",
    "    model = KNeighborsClassifier(i)\n",
    "    model.fit(x_train, y_train)\n",
    "    predictions = model.predict(x_test)\n",
    "    mse.append(mean_squared_error(y_test, predictions))\n",
    "    k.append(i)\n",
    "for i in range(1,80):\n",
    "    x.append(mse.index(min(mse))+1)\n",
    "    y.append(min(mse))\n",
    "\n"
   ]
  },
  {
   "cell_type": "code",
   "execution_count": 77,
   "metadata": {},
   "outputs": [
    {
     "name": "stdout",
     "output_type": "stream",
     "text": [
      "[0.5531914893617021, 0.8138297872340425, 0.5053191489361702, 0.5319148936170213, 0.39361702127659576, 0.30319148936170215, 0.2127659574468085, 0.2074468085106383, 0.17553191489361702, 0.1595744680851064, 0.16489361702127658, 0.19148936170212766, 0.19148936170212766, 0.15425531914893617, 0.1702127659574468, 0.16489361702127658, 0.14893617021276595, 0.14893617021276595, 0.15425531914893617, 0.1702127659574468, 0.18085106382978725, 0.20212765957446807, 0.18085106382978725, 0.17553191489361702, 0.19680851063829788, 0.18085106382978725, 0.20212765957446807, 0.17553191489361702, 0.1702127659574468, 0.16489361702127658, 0.20212765957446807, 0.20212765957446807, 0.18617021276595744, 0.18085106382978725, 0.16489361702127658, 0.19680851063829788, 0.16489361702127658, 0.1702127659574468, 0.15425531914893617, 0.15425531914893617, 0.16489361702127658, 0.14893617021276595, 0.14893617021276595, 0.13297872340425532, 0.14893617021276595, 0.14893617021276595, 0.14893617021276595, 0.14893617021276595, 0.13297872340425532, 0.14893617021276595, 0.16489361702127658, 0.16489361702127658, 0.11170212765957446, 0.14893617021276595, 0.1276595744680851, 0.13297872340425532, 0.1276595744680851, 0.1276595744680851, 0.14893617021276595, 0.14361702127659576, 0.15425531914893617, 0.14893617021276595, 0.14893617021276595, 0.16489361702127658, 0.16489361702127658, 0.1595744680851064, 0.16489361702127658, 0.15425531914893617, 0.14893617021276595, 0.1702127659574468, 0.18617021276595744, 0.1702127659574468, 0.17553191489361702, 0.15425531914893617, 0.14893617021276595, 0.1595744680851064, 0.14893617021276595, 0.1595744680851064, 0.16489361702127658]\n"
     ]
    }
   ],
   "source": [
    "print(mse)"
   ]
  },
  {
   "cell_type": "code",
   "execution_count": 78,
   "metadata": {},
   "outputs": [
    {
     "data": {
      "image/png": "[encoded data removed]",
      "text/plain": [
       "<Figure size 432x288 with 1 Axes>"
      ]
     },
     "metadata": {
      "needs_background": "light"
     },
     "output_type": "display_data"
    }
   ],
   "source": [
    "plt.scatter(np.arange(1, 80,step=1), mse)\n",
    "plt.plot(np.arange(1, 80, step=1), mse)\n",
    "plt.show()"
   ]
  },
  {
   "cell_type": "code",
   "execution_count": null,
   "metadata": {},
   "outputs": [],
   "source": []
  }
 ],
 "metadata": {
  "kernelspec": {
   "display_name": "Python 3.10.4 64-bit",
   "language": "python",
   "name": "python3"
  },
  "language_info": {
   "codemirror_mode": {
    "name": "ipython",
    "version": 3
   },
   "file_extension": ".py",
   "mimetype": "text/x-python",
   "name": "python",
   "nbconvert_exporter": "python",
   "pygments_lexer": "ipython3",
   "version": "3.10.4"
  },
  "orig_nbformat": 4,
  "vscode": {
   "interpreter": {
    "hash": "916dbcbb3f70747c44a77c7bcd40155683ae19c65e1c03b4aa3499c5328201f1"
   }
  }
 },
 "nbformat": 4,
 "nbformat_minor": 2
}
